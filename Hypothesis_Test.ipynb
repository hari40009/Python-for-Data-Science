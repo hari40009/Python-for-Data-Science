{
  "nbformat": 4,
  "nbformat_minor": 0,
  "metadata": {
    "kernelspec": {
      "display_name": "Python 3",
      "language": "python",
      "name": "python3"
    },
    "language_info": {
      "codemirror_mode": {
        "name": "ipython",
        "version": 3
      },
      "file_extension": ".py",
      "mimetype": "text/x-python",
      "name": "python",
      "nbconvert_exporter": "python",
      "pygments_lexer": "ipython3",
      "version": "3.7.4"
    },
    "colab": {
      "name": "Hypothesis_Test.ipynb",
      "provenance": [],
      "collapsed_sections": [],
      "include_colab_link": true
    }
  },
  "cells": [
    {
      "cell_type": "markdown",
      "metadata": {
        "id": "view-in-github",
        "colab_type": "text"
      },
      "source": [
        "<a href=\"https://colab.research.google.com/github/hari40009/Python-for-Data-Science/blob/main/Hypothesis_Test.ipynb\" target=\"_parent\"><img src=\"https://colab.research.google.com/assets/colab-badge.svg\" alt=\"Open In Colab\"/></a>"
      ]
    },
    {
      "cell_type": "code",
      "metadata": {
        "id": "MDk_TeV-Ceil"
      },
      "source": [
        "#import the libraries\n",
        "import pandas as pd\n",
        "import scipy \n",
        "import numpy as np\n",
        "from scipy import stats"
      ],
      "execution_count": 1,
      "outputs": []
    },
    {
      "cell_type": "markdown",
      "metadata": {
        "id": "siNYLcinCeio"
      },
      "source": [
        "# Super Market example"
      ]
    },
    {
      "cell_type": "code",
      "metadata": {
        "id": "HwCkKq4JCeip",
        "colab": {
          "base_uri": "https://localhost:8080/"
        },
        "outputId": "25229365-3513-455d-f33b-0e91783f63c5"
      },
      "source": [
        "stats.t.cdf(2.23,df=79)"
      ],
      "execution_count": 2,
      "outputs": [
        {
          "output_type": "execute_result",
          "data": {
            "text/plain": [
              "0.9857070911974259"
            ]
          },
          "metadata": {
            "tags": []
          },
          "execution_count": 2
        }
      ]
    },
    {
      "cell_type": "markdown",
      "metadata": {
        "id": "W8LOpwylCeip"
      },
      "source": [
        "# Call Center example"
      ]
    },
    {
      "cell_type": "code",
      "metadata": {
        "id": "W6v6wCppCeip",
        "colab": {
          "base_uri": "https://localhost:8080/"
        },
        "outputId": "5d82ed92-512f-4cf9-f23a-5231c5078e00"
      },
      "source": [
        "(4-4.6)/(3/np.sqrt(50))"
      ],
      "execution_count": 3,
      "outputs": [
        {
          "output_type": "execute_result",
          "data": {
            "text/plain": [
              "-1.4142135623730943"
            ]
          },
          "metadata": {
            "tags": []
          },
          "execution_count": 3
        }
      ]
    },
    {
      "cell_type": "code",
      "metadata": {
        "id": "unGLWNhMCeiq",
        "colab": {
          "base_uri": "https://localhost:8080/"
        },
        "outputId": "01679183-f45e-451d-b6f2-3c7ab71ce61c"
      },
      "source": [
        "2*stats.t.cdf(-1.41,df=49)"
      ],
      "execution_count": 4,
      "outputs": [
        {
          "output_type": "execute_result",
          "data": {
            "text/plain": [
              "0.1648559451804547"
            ]
          },
          "metadata": {
            "tags": []
          },
          "execution_count": 4
        }
      ]
    },
    {
      "cell_type": "code",
      "metadata": {
        "id": "HMu_HNeXCeiq",
        "colab": {
          "base_uri": "https://localhost:8080/"
        },
        "outputId": "ef3f4f0d-c73d-4baa-8341-4da5c5e2f57f"
      },
      "source": [
        "p/2"
      ],
      "execution_count": 19,
      "outputs": [
        {
          "output_type": "execute_result",
          "data": {
            "text/plain": [
              "0.029265164842448826"
            ]
          },
          "metadata": {
            "tags": []
          },
          "execution_count": 19
        }
      ]
    },
    {
      "cell_type": "markdown",
      "metadata": {
        "id": "-Sv444C5Ceiq"
      },
      "source": [
        "# One tail test"
      ]
    },
    {
      "cell_type": "code",
      "metadata": {
        "id": "rygRq_zxCeiq"
      },
      "source": [
        "data=pd.Series([0.593, 0.142, 0.329, 0.691, 0.231, 0.793, 0.519, 0.392, 0.418])"
      ],
      "execution_count": 6,
      "outputs": []
    },
    {
      "cell_type": "code",
      "metadata": {
        "id": "DloedjqrCeiq"
      },
      "source": [
        "#This gives two tail test p value so divide by 2 to get final p-value\n",
        "p=scipy.stats.ttest_1samp(data,0.3)[1]\n"
      ],
      "execution_count": 7,
      "outputs": []
    },
    {
      "cell_type": "code",
      "metadata": {
        "id": "ZSdUazIqGlC_"
      },
      "source": [
        "p_value= p/2"
      ],
      "execution_count": 8,
      "outputs": []
    },
    {
      "cell_type": "code",
      "metadata": {
        "id": "cgzAlnUCGJt-",
        "colab": {
          "base_uri": "https://localhost:8080/"
        },
        "outputId": "f3d935cb-2879-446f-fd8e-71da7622b286"
      },
      "source": [
        "p_value"
      ],
      "execution_count": 9,
      "outputs": [
        {
          "output_type": "execute_result",
          "data": {
            "text/plain": [
              "0.029265164842448826"
            ]
          },
          "metadata": {
            "tags": []
          },
          "execution_count": 9
        }
      ]
    },
    {
      "cell_type": "markdown",
      "metadata": {
        "id": "UzUmRN0PCeiq"
      },
      "source": [
        "# Two Tail test"
      ]
    },
    {
      "cell_type": "code",
      "metadata": {
        "id": "yfkCnhJBCeiq"
      },
      "source": [
        "Control=pd.Series([91, 87, 99, 77, 88, 91])\n",
        "Treat =pd.Series([101, 110, 103, 93, 99, 104])  \n"
      ],
      "execution_count": 10,
      "outputs": []
    },
    {
      "cell_type": "code",
      "metadata": {
        "id": "uoJrpKgaCeir",
        "colab": {
          "base_uri": "https://localhost:8080/"
        },
        "outputId": "8cf93c17-4071-499f-b9c2-e0b618b90867"
      },
      "source": [
        "stats.ttest_ind( Control,Treat)"
      ],
      "execution_count": 11,
      "outputs": [
        {
          "output_type": "execute_result",
          "data": {
            "text/plain": [
              "Ttest_indResult(statistic=-3.445612673536487, pvalue=0.006272124350809803)"
            ]
          },
          "metadata": {
            "tags": []
          },
          "execution_count": 11
        }
      ]
    },
    {
      "cell_type": "markdown",
      "metadata": {
        "id": "UPNcQCtKCeir"
      },
      "source": [
        "# 2 Proportion Test"
      ]
    },
    {
      "cell_type": "code",
      "metadata": {
        "id": "LzicPMsjCeir"
      },
      "source": [
        "import numpy as np"
      ],
      "execution_count": 12,
      "outputs": []
    },
    {
      "cell_type": "code",
      "metadata": {
        "id": "DTd0ThngCeir"
      },
      "source": [
        "#Data:\n",
        "\n",
        "n1 = 247\n",
        "p1 = .37\n",
        "\n",
        "n2 = 308\n",
        "p2 = .39"
      ],
      "execution_count": 13,
      "outputs": []
    },
    {
      "cell_type": "code",
      "metadata": {
        "id": "jFdFWEgDCeir"
      },
      "source": [
        "population1 = np.random.binomial(1, p1, n1)\n",
        "population2 = np.random.binomial(1, p2, n2)"
      ],
      "execution_count": 14,
      "outputs": []
    },
    {
      "cell_type": "code",
      "metadata": {
        "id": "pOM-mQFENkeN",
        "colab": {
          "base_uri": "https://localhost:8080/"
        },
        "outputId": "f7f7dd0e-5722-4bed-b8ef-ca055c33941a"
      },
      "source": [
        "population1"
      ],
      "execution_count": 15,
      "outputs": [
        {
          "output_type": "execute_result",
          "data": {
            "text/plain": [
              "array([1, 0, 1, 1, 0, 0, 1, 1, 0, 0, 0, 0, 1, 0, 0, 1, 0, 0, 1, 0, 0, 1,\n",
              "       0, 0, 1, 0, 1, 0, 1, 0, 0, 1, 1, 1, 0, 1, 1, 0, 0, 1, 0, 1, 1, 1,\n",
              "       0, 0, 0, 1, 1, 0, 0, 0, 1, 0, 0, 1, 1, 0, 0, 0, 0, 0, 1, 1, 0, 0,\n",
              "       0, 0, 0, 0, 0, 1, 1, 0, 1, 0, 0, 0, 1, 0, 1, 0, 0, 0, 0, 1, 1, 0,\n",
              "       1, 1, 1, 0, 0, 0, 0, 1, 0, 0, 1, 0, 1, 0, 1, 1, 0, 0, 1, 0, 0, 0,\n",
              "       0, 0, 1, 1, 0, 0, 1, 0, 1, 1, 0, 0, 1, 0, 0, 1, 0, 0, 0, 0, 1, 0,\n",
              "       1, 0, 0, 0, 0, 0, 0, 0, 1, 0, 1, 0, 1, 0, 0, 0, 0, 0, 0, 0, 0, 0,\n",
              "       1, 1, 0, 0, 1, 0, 0, 0, 0, 0, 1, 0, 0, 0, 0, 0, 0, 0, 0, 0, 0, 0,\n",
              "       0, 1, 1, 0, 0, 1, 1, 1, 0, 1, 1, 1, 1, 0, 0, 1, 0, 1, 0, 0, 0, 1,\n",
              "       1, 1, 0, 1, 0, 0, 0, 1, 0, 1, 1, 1, 0, 0, 0, 1, 0, 1, 1, 0, 0, 1,\n",
              "       0, 0, 0, 1, 1, 0, 0, 0, 0, 1, 1, 0, 0, 0, 0, 0, 1, 0, 0, 0, 0, 0,\n",
              "       0, 1, 0, 0, 1])"
            ]
          },
          "metadata": {
            "tags": []
          },
          "execution_count": 15
        }
      ]
    },
    {
      "cell_type": "code",
      "metadata": {
        "id": "i5B0ecoxCeir",
        "colab": {
          "base_uri": "https://localhost:8080/"
        },
        "outputId": "eeacf029-213e-4a56-bb54-1c8348ede0e5"
      },
      "source": [
        "population1.mean()"
      ],
      "execution_count": 16,
      "outputs": [
        {
          "output_type": "execute_result",
          "data": {
            "text/plain": [
              "0.3643724696356275"
            ]
          },
          "metadata": {
            "tags": []
          },
          "execution_count": 16
        }
      ]
    },
    {
      "cell_type": "code",
      "metadata": {
        "id": "wUuec23-Ceir",
        "colab": {
          "base_uri": "https://localhost:8080/"
        },
        "outputId": "57b854f6-c4b1-4fb8-eeeb-57e2b4d269d8"
      },
      "source": [
        "population2"
      ],
      "execution_count": 17,
      "outputs": [
        {
          "output_type": "execute_result",
          "data": {
            "text/plain": [
              "array([1, 1, 1, 1, 0, 1, 1, 1, 1, 0, 1, 1, 0, 1, 1, 1, 0, 1, 0, 0, 1, 1,\n",
              "       1, 1, 0, 0, 1, 0, 0, 0, 0, 0, 0, 1, 0, 0, 0, 1, 0, 0, 0, 1, 1, 0,\n",
              "       0, 1, 1, 0, 0, 0, 1, 0, 0, 1, 1, 1, 0, 0, 1, 0, 0, 1, 0, 1, 0, 0,\n",
              "       0, 0, 0, 0, 1, 1, 0, 0, 0, 0, 1, 1, 1, 0, 0, 0, 0, 0, 1, 1, 0, 0,\n",
              "       0, 0, 1, 0, 0, 0, 1, 1, 0, 1, 1, 0, 0, 1, 0, 1, 0, 0, 1, 0, 0, 0,\n",
              "       0, 0, 1, 0, 0, 0, 0, 0, 1, 0, 1, 0, 0, 0, 0, 1, 1, 0, 1, 0, 0, 0,\n",
              "       0, 0, 0, 1, 1, 0, 0, 0, 0, 0, 0, 0, 0, 1, 0, 0, 1, 1, 0, 0, 0, 1,\n",
              "       0, 0, 1, 0, 0, 1, 1, 1, 1, 0, 0, 0, 0, 0, 1, 0, 0, 1, 0, 0, 0, 0,\n",
              "       0, 1, 0, 1, 0, 0, 0, 0, 0, 0, 1, 1, 1, 0, 0, 0, 1, 0, 0, 0, 0, 1,\n",
              "       0, 0, 0, 0, 0, 0, 0, 0, 1, 0, 1, 0, 0, 0, 0, 1, 0, 1, 0, 1, 0, 0,\n",
              "       0, 0, 1, 0, 1, 0, 0, 0, 1, 0, 1, 0, 0, 0, 1, 0, 1, 0, 0, 0, 1, 1,\n",
              "       1, 0, 1, 1, 1, 1, 1, 1, 0, 1, 1, 0, 0, 1, 0, 1, 1, 0, 0, 1, 1, 0,\n",
              "       0, 0, 1, 0, 0, 1, 0, 1, 1, 1, 1, 0, 0, 1, 0, 1, 1, 1, 1, 0, 0, 0,\n",
              "       0, 1, 0, 0, 1, 0, 0, 0, 1, 1, 0, 0, 0, 1, 0, 0, 0, 1, 0, 0, 0, 1])"
            ]
          },
          "metadata": {
            "tags": []
          },
          "execution_count": 17
        }
      ]
    },
    {
      "cell_type": "code",
      "metadata": {
        "id": "mJKZnhYdCeir",
        "colab": {
          "base_uri": "https://localhost:8080/"
        },
        "outputId": "651256cc-5eeb-4051-ffe2-418cbe795c87"
      },
      "source": [
        "import statsmodels.api as sm\n",
        "sm.stats.ttest_ind(population1, population2)"
      ],
      "execution_count": 18,
      "outputs": [
        {
          "output_type": "stream",
          "text": [
            "/usr/local/lib/python3.7/dist-packages/statsmodels/tools/_testing.py:19: FutureWarning: pandas.util.testing is deprecated. Use the functions in the public API at pandas.testing instead.\n",
            "  import pandas.util.testing as tm\n"
          ],
          "name": "stderr"
        },
        {
          "output_type": "execute_result",
          "data": {
            "text/plain": [
              "(-0.4526289045540812, 0.6509934962208047, 553.0)"
            ]
          },
          "metadata": {
            "tags": []
          },
          "execution_count": 18
        }
      ]
    },
    {
      "cell_type": "code",
      "metadata": {
        "id": "d9wx-2j4Ceir"
      },
      "source": [
        ""
      ],
      "execution_count": 18,
      "outputs": []
    }
  ]
}