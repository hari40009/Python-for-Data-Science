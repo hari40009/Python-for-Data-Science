{
  "nbformat": 4,
  "nbformat_minor": 0,
  "metadata": {
    "kernelspec": {
      "display_name": "Python 3",
      "language": "python",
      "name": "python3"
    },
    "language_info": {
      "codemirror_mode": {
        "name": "ipython",
        "version": 3
      },
      "file_extension": ".py",
      "mimetype": "text/x-python",
      "name": "python",
      "nbconvert_exporter": "python",
      "pygments_lexer": "ipython3",
      "version": "3.7.4"
    },
    "colab": {
      "name": "Feature_Engineering.ipynb",
      "provenance": [],
      "include_colab_link": true
    }
  },
  "cells": [
    {
      "cell_type": "markdown",
      "metadata": {
        "id": "view-in-github",
        "colab_type": "text"
      },
      "source": [
        "<a href=\"https://colab.research.google.com/github/hari40009/Python-for-Data-Science/blob/main/Feature_Engineering.ipynb\" target=\"_parent\"><img src=\"https://colab.research.google.com/assets/colab-badge.svg\" alt=\"Open In Colab\"/></a>"
      ]
    },
    {
      "cell_type": "markdown",
      "metadata": {
        "id": "carKXs9KqL3m"
      },
      "source": [
        "#### Univariate Feature Selection"
      ]
    },
    {
      "cell_type": "code",
      "metadata": {
        "id": "zWsN2agbqL3n",
        "colab": {
          "base_uri": "https://localhost:8080/"
        },
        "outputId": "1b8aba1c-3093-47d1-82f4-933e78eb121f"
      },
      "source": [
        "# Feature Extraction with Univariate Statistical Tests (Chi-squared for classification)\n",
        "from pandas import read_csv\n",
        "from numpy import set_printoptions\n",
        "from sklearn.feature_selection import SelectKBest\n",
        "from sklearn.feature_selection import chi2\n",
        "# load data\n",
        "filename = 'pima-indians-diabetes.data.csv'\n",
        "names = ['preg', 'plas', 'pres', 'skin', 'test', 'mass', 'pedi', 'age', 'class']\n",
        "dataframe = read_csv(filename, names=names)\n",
        "\n",
        "array = dataframe.values\n",
        "X = array[:,0:8]\n",
        "Y = array[:,8]\n",
        "\n",
        "# feature extraction\n",
        "test = SelectKBest(score_func=chi2, k=4)\n",
        "fit = test.fit(X, Y)\n",
        "# summarize scores\n",
        "set_printoptions(precision=3)\n",
        "print(fit.scores_)\n",
        "features = fit.transform(X)\n",
        "\n",
        "\n",
        "#For regression: f_regression, mutual_info_regression\n",
        "#For classification: chi2, f_classif, mutual_info_classif"
      ],
      "execution_count": 2,
      "outputs": [
        {
          "output_type": "stream",
          "text": [
            "[ 111.52  1411.887   17.605   53.108 2175.565  127.669    5.393  181.304]\n"
          ],
          "name": "stdout"
        }
      ]
    },
    {
      "cell_type": "code",
      "metadata": {
        "id": "g_fSWjhBqzSe",
        "colab": {
          "base_uri": "https://localhost:8080/"
        },
        "outputId": "74da50e6-2ec5-487f-eccc-1d327183e3a3"
      },
      "source": [
        "'preg', 'plas', 'pres', 'skin', 'test', 'mass', 'pedi', 'age'"
      ],
      "execution_count": 3,
      "outputs": [
        {
          "output_type": "execute_result",
          "data": {
            "text/plain": [
              "('preg', 'plas', 'pres', 'skin', 'test', 'mass', 'pedi', 'age')"
            ]
          },
          "metadata": {
            "tags": []
          },
          "execution_count": 3
        }
      ]
    },
    {
      "cell_type": "code",
      "metadata": {
        "id": "MZzjU43CrIU1",
        "colab": {
          "base_uri": "https://localhost:8080/"
        },
        "outputId": "4f11c0ae-26c2-4ed7-864e-d4740438591f"
      },
      "source": [
        "features"
      ],
      "execution_count": 4,
      "outputs": [
        {
          "output_type": "execute_result",
          "data": {
            "text/plain": [
              "array([[148. ,   0. ,  33.6,  50. ],\n",
              "       [ 85. ,   0. ,  26.6,  31. ],\n",
              "       [183. ,   0. ,  23.3,  32. ],\n",
              "       ...,\n",
              "       [121. , 112. ,  26.2,  30. ],\n",
              "       [126. ,   0. ,  30.1,  47. ],\n",
              "       [ 93. ,   0. ,  30.4,  23. ]])"
            ]
          },
          "metadata": {
            "tags": []
          },
          "execution_count": 4
        }
      ]
    },
    {
      "cell_type": "markdown",
      "metadata": {
        "id": "Q53EwTh7qL3o"
      },
      "source": [
        "#### Recursive Feature Elimination"
      ]
    },
    {
      "cell_type": "code",
      "metadata": {
        "id": "XhtbMFTxqL3o"
      },
      "source": [
        "# Feature Extraction with RFE\n",
        "from pandas import read_csv\n",
        "from sklearn.feature_selection import RFE\n",
        "from sklearn.linear_model import LogisticRegression\n",
        "\n",
        "# load data\n",
        "filename = 'pima-indians-diabetes.data.csv'\n",
        "names = ['preg', 'plas', 'pres', 'skin', 'test', 'mass', 'pedi', 'age', 'class']\n",
        "dataframe = read_csv(filename, names=names)\n",
        "array = dataframe.values\n",
        "X = array[:,0:8]\n",
        "Y = array[:,8]\n",
        "\n",
        "\n",
        "# feature extraction\n",
        "model = LogisticRegression(max_iter=400)\n",
        "rfe = RFE(model, 3)\n",
        "fit = rfe.fit(X, Y)\n"
      ],
      "execution_count": 5,
      "outputs": []
    },
    {
      "cell_type": "code",
      "metadata": {
        "id": "Tb1-w_J3qL3p",
        "colab": {
          "base_uri": "https://localhost:8080/"
        },
        "outputId": "d71f068b-555c-486d-aba5-7516ddf5706f"
      },
      "source": [
        "#Num Features: \n",
        "fit.n_features_"
      ],
      "execution_count": 6,
      "outputs": [
        {
          "output_type": "execute_result",
          "data": {
            "text/plain": [
              "3"
            ]
          },
          "metadata": {
            "tags": []
          },
          "execution_count": 6
        }
      ]
    },
    {
      "cell_type": "code",
      "metadata": {
        "id": "Hi3XIZdcqL3p",
        "colab": {
          "base_uri": "https://localhost:8080/"
        },
        "outputId": "43842743-a8b9-4aa5-ce39-d448a7d8e40a"
      },
      "source": [
        "#Selected Features:\n",
        "fit.support_"
      ],
      "execution_count": 7,
      "outputs": [
        {
          "output_type": "execute_result",
          "data": {
            "text/plain": [
              "array([ True, False, False, False, False,  True,  True, False])"
            ]
          },
          "metadata": {
            "tags": []
          },
          "execution_count": 7
        }
      ]
    },
    {
      "cell_type": "code",
      "metadata": {
        "id": "iQKMF4qfqL3p",
        "colab": {
          "base_uri": "https://localhost:8080/"
        },
        "outputId": "d216f879-a065-44ea-d024-4b6a920ebbe7"
      },
      "source": [
        "# Feature Ranking:\n",
        "fit.ranking_"
      ],
      "execution_count": 8,
      "outputs": [
        {
          "output_type": "execute_result",
          "data": {
            "text/plain": [
              "array([1, 2, 4, 6, 5, 1, 1, 3])"
            ]
          },
          "metadata": {
            "tags": []
          },
          "execution_count": 8
        }
      ]
    },
    {
      "cell_type": "markdown",
      "metadata": {
        "id": "eFEAMOnvqL3p"
      },
      "source": [
        "#### Feature Importance using Decision Tree"
      ]
    },
    {
      "cell_type": "code",
      "metadata": {
        "id": "IADBHCCtqL3q",
        "colab": {
          "base_uri": "https://localhost:8080/"
        },
        "outputId": "0a38bd8a-9253-4f8d-a7e6-83b12a748f38"
      },
      "source": [
        "# Feature Importance with Extra Trees Classifier\n",
        "from pandas import read_csv\n",
        "from sklearn.tree import  DecisionTreeClassifier\n",
        "# load data\n",
        "filename = 'pima-indians-diabetes.data.csv'\n",
        "names = ['preg', 'plas', 'pres', 'skin', 'test', 'mass', 'pedi', 'age', 'class']\n",
        "dataframe = read_csv(filename, names=names)\n",
        "array = dataframe.values\n",
        "X = array[:,0:8]\n",
        "Y = array[:,8]\n",
        "\n",
        "# feature extraction\n",
        "model = DecisionTreeClassifier()\n",
        "model.fit(X, Y)\n",
        "\n",
        "print(model.feature_importances_)"
      ],
      "execution_count": 9,
      "outputs": [
        {
          "output_type": "stream",
          "text": [
            "[0.061 0.338 0.086 0.015 0.032 0.226 0.122 0.12 ]\n"
          ],
          "name": "stdout"
        }
      ]
    },
    {
      "cell_type": "code",
      "metadata": {
        "id": "eHJ4YKeLqL3q"
      },
      "source": [
        ""
      ],
      "execution_count": 9,
      "outputs": []
    }
  ]
}