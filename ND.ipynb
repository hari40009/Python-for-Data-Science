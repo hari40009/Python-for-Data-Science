{
  "nbformat": 4,
  "nbformat_minor": 0,
  "metadata": {
    "colab": {
      "name": "ND.ipynb",
      "provenance": [],
      "authorship_tag": "ABX9TyOZAhvnejHSDL06MHs5UHOF",
      "include_colab_link": true
    },
    "kernelspec": {
      "name": "python3",
      "display_name": "Python 3"
    },
    "language_info": {
      "name": "python"
    }
  },
  "cells": [
    {
      "cell_type": "markdown",
      "metadata": {
        "id": "view-in-github",
        "colab_type": "text"
      },
      "source": [
        "<a href=\"https://colab.research.google.com/github/hari40009/Python-for-Data-Science/blob/main/ND.ipynb\" target=\"_parent\"><img src=\"https://colab.research.google.com/assets/colab-badge.svg\" alt=\"Open In Colab\"/></a>"
      ]
    },
    {
      "cell_type": "code",
      "metadata": {
        "id": "Mmj0FVtp295b"
      },
      "source": [
        "from scipy import stats"
      ],
      "execution_count": 2,
      "outputs": []
    },
    {
      "cell_type": "code",
      "metadata": {
        "colab": {
          "base_uri": "https://localhost:8080/"
        },
        "id": "fzt4N7fyP0lS",
        "outputId": "7a1a13eb-5c80-44f7-c5ec-40fb8733ad26"
      },
      "source": [
        "stats.norm.cdf( 70, loc=60,scale=10)\n"
      ],
      "execution_count": 3,
      "outputs": [
        {
          "output_type": "execute_result",
          "data": {
            "text/plain": [
              "0.8413447460685429"
            ]
          },
          "metadata": {
            "tags": []
          },
          "execution_count": 3
        }
      ]
    },
    {
      "cell_type": "code",
      "metadata": {
        "colab": {
          "base_uri": "https://localhost:8080/"
        },
        "id": "QMs0hYX3QVRd",
        "outputId": "341d3e94-f658-4b88-b3ad-5e7bf49cd213"
      },
      "source": [
        "stats.norm.cdf(80,loc=60,scale=10)"
      ],
      "execution_count": 4,
      "outputs": [
        {
          "output_type": "execute_result",
          "data": {
            "text/plain": [
              "0.9772498680518208"
            ]
          },
          "metadata": {
            "tags": []
          },
          "execution_count": 4
        }
      ]
    },
    {
      "cell_type": "code",
      "metadata": {
        "id": "TLxiSGiXQWaZ"
      },
      "source": [
        "# Find p(>=80)\n",
        "#Ans :0.223"
      ],
      "execution_count": null,
      "outputs": []
    },
    {
      "cell_type": "code",
      "metadata": {
        "colab": {
          "base_uri": "https://localhost:8080/"
        },
        "id": "-oUS1b1GQVy3",
        "outputId": "c644a97a-8f29-4f9f-daa6-0418e4270bed"
      },
      "source": [
        "p(x<=680)\n",
        "stats.norm.cdf(680,loc=711,scale=29)"
      ],
      "execution_count": 5,
      "outputs": [
        {
          "output_type": "execute_result",
          "data": {
            "text/plain": [
              "0.14254260383881612"
            ]
          },
          "metadata": {
            "tags": []
          },
          "execution_count": 5
        }
      ]
    },
    {
      "cell_type": "code",
      "metadata": {
        "colab": {
          "base_uri": "https://localhost:8080/"
        },
        "id": "Wa1gwASPQVEG",
        "outputId": "8b452055-8311-49f6-ab20-a2e90a380a3a"
      },
      "source": [
        "#p(x<=711)\n",
        "stats.norm.cdf(711,loc=711,scale=29)"
      ],
      "execution_count": 6,
      "outputs": [
        {
          "output_type": "execute_result",
          "data": {
            "text/plain": [
              "0.5"
            ]
          },
          "metadata": {
            "tags": []
          },
          "execution_count": 6
        }
      ]
    },
    {
      "cell_type": "code",
      "metadata": {
        "id": "df2k17gCThvm"
      },
      "source": [
        "#p(x>=711)\n",
        "#1-0.5=0.5"
      ],
      "execution_count": 8,
      "outputs": []
    },
    {
      "cell_type": "code",
      "metadata": {
        "colab": {
          "base_uri": "https://localhost:8080/"
        },
        "id": "1u1auUjkThqi",
        "outputId": "a4b3a5bd-1c3d-4d08-ebc8-b6c050555473"
      },
      "source": [
        "#p(680<= x <=730)\n",
        "stats.norm.cdf(730,loc=711,scale=29) - stats.norm.cdf(680,loc=711,scale=29)\n",
        "\n"
      ],
      "execution_count": 9,
      "outputs": [
        {
          "output_type": "execute_result",
          "data": {
            "text/plain": [
              "0.6012790195110561"
            ]
          },
          "metadata": {
            "tags": []
          },
          "execution_count": 9
        }
      ]
    },
    {
      "cell_type": "code",
      "metadata": {
        "colab": {
          "base_uri": "https://localhost:8080/"
        },
        "id": "3zYsoT7aWsCH",
        "outputId": "6ec0bf5f-189d-45ad-ddc7-4abd4b6e5252"
      },
      "source": [
        "stats.norm.cdf(730, loc=711,scale=29)-stats.norm.cdf(680, loc=711,scale=29)\n"
      ],
      "execution_count": 10,
      "outputs": [
        {
          "output_type": "execute_result",
          "data": {
            "text/plain": [
              "0.6012790195110561"
            ]
          },
          "metadata": {
            "tags": []
          },
          "execution_count": 10
        }
      ]
    },
    {
      "cell_type": "code",
      "metadata": {
        "id": "_YAgKf7VW9eP"
      },
      "source": [
        ""
      ],
      "execution_count": null,
      "outputs": []
    }
  ]
}